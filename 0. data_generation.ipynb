{
 "cells": [
  {
   "cell_type": "markdown",
   "metadata": {},
   "source": [
    "# KOL Data Standardization - Step 0 (Dummy Data Input Generation)"
   ]
  },
  {
   "cell_type": "code",
   "execution_count": 1,
   "metadata": {},
   "outputs": [],
   "source": [
    "\"\"\"\n",
    "KOL Data Standardization - Step 0 (Preparing Input Data in Batches for the ETL process)\n",
    "\n",
    "This module generates a dummy KOL input dataset using the Python's Faker package.\n",
    "This module serves as a utility tool to generate input dataset for KOL Data Standardization Pipeline.\n",
    "It is based on the fact that a KOL (Key Opinion Leader) can have multiple degrees as well as multiple specialities.\n",
    "\"\"\"\n",
    "\n",
    "import os\n",
    "import datetime\n",
    "import faker\n",
    "import pandas as pd\n",
    "import utils"
   ]
  },
  {
   "cell_type": "code",
   "execution_count": 2,
   "metadata": {},
   "outputs": [],
   "source": [
    "# Fetching Master Tables to prepare the dummy input data for KOL Data Standardization\n",
    "\n",
    "SPECIALITY_MASTER_PATH = \"master_tables/speciality_master.csv\"\n",
    "PROFILE_STATUS_MATER_PATH = \"master_tables/profile_status_master.csv\"\n",
    "DEGREE_MASTER_PATH = \"master_tables/degree_master.csv\"\n",
    "\n",
    "speciality_df = pd.read_csv(SPECIALITY_MASTER_PATH)\n",
    "SPECIALITIES = speciality_df[\"speciality\"].tolist()\n",
    "\n",
    "degree_df = pd.read_csv(DEGREE_MASTER_PATH)\n",
    "DEGREES = degree_df[\"degree\"].tolist()"
   ]
  },
  {
   "cell_type": "code",
   "execution_count": 3,
   "metadata": {},
   "outputs": [],
   "source": [
    "def generate_kol_data():\n",
    "    \"\"\"Main Function to generate dummy input data (with random missing values) for KOL Data Standardization input\"\"\"\n",
    "    faker_obj = faker.Faker()\n",
    "    dob = faker_obj.date_of_birth(minimum_age=18, maximum_age=60)\n",
    "    age = (datetime.datetime.today().date() - dob).days // 365\n",
    "    gender = utils.random_utility(\"choice\", {\"seq\": [\"Male\", \"Female\", \"Other\"]})\n",
    "    if gender == \"Male\":\n",
    "        f_name = faker_obj.first_name_male()\n",
    "        l_name = faker_obj.last_name_male()\n",
    "    elif gender == \"Female\":\n",
    "        f_name = faker_obj.first_name_female()\n",
    "        l_name = faker_obj.last_name_female()\n",
    "    else:\n",
    "        f_name = faker_obj.first_name_nonbinary()\n",
    "        l_name = faker_obj.last_name_nonbinary()\n",
    "    state = utils.random_utility(\"choice\", {\"seq\": [None, faker_obj.state()]})\n",
    "    city = utils.random_utility(\"choice\", {\"seq\": [None, faker_obj.city()]})\n",
    "    degree = []\n",
    "    for i in range(utils.random_utility(\"randint\", {\"a\": 0, \"b\": 3})):\n",
    "        degree.append(utils.random_utility(\"choice\", {\"seq\": DEGREES}))\n",
    "    degree = None if len(degree) == 0 else \",\".join(degree)\n",
    "    speciality = []\n",
    "    for i in range(utils.random_utility(\"randint\", {\"a\": 0, \"b\": 4})):\n",
    "        speciality.append(utils.random_utility(\"choice\", {\"seq\": SPECIALITIES}))\n",
    "    speciality = None if len(speciality) == 0 else \",\".join(speciality)\n",
    "    profile_status = utils.random_utility(\"choice\", {\"seq\": [None, 0, 1, 2]})\n",
    "\n",
    "    kol_data = {\n",
    "        \"mdm_id\": utils.random_utility(\"randint\", {\"a\": 100, \"b\": 200}),\n",
    "        \"first_name\": utils.random_utility(\"choice\", {\"seq\": [None, f_name]}),\n",
    "        \"last_name\": utils.random_utility(\"choice\", {\"seq\": [None, l_name]}),\n",
    "        \"age\": utils.random_utility(\"choice\", {\"seq\": [None, age]}),\n",
    "        \"city\": city,\n",
    "        \"state\": state,\n",
    "        \"profile_status\": profile_status,\n",
    "        \"speciality\": speciality,\n",
    "        \"degree\": degree,\n",
    "    }\n",
    "    return kol_data"
   ]
  },
  {
   "cell_type": "code",
   "execution_count": 4,
   "metadata": {},
   "outputs": [
    {
     "name": "stdout",
     "output_type": "stream",
     "text": [
      "Generating the KOL Input data.\n",
      "Batches: 3.\n",
      "Each Batch Size: 10\n",
      "\n",
      "\n",
      "Saved Batch: data_store\\batch_1.xlsx\n",
      "Saved Batch: data_store\\batch_2.xlsx\n",
      "Saved Batch: data_store\\batch_3.xlsx\n",
      "\n",
      "Successfully generated the input data for KOL Data Standardization process\n"
     ]
    }
   ],
   "source": [
    "if __name__ == \"__main__\":\n",
    "    DATA_STORE_PATH = \"data_store\"\n",
    "    BATCH_SIZE = 10\n",
    "    BATCHES = 3\n",
    "\n",
    "    print(\n",
    "        f\"Generating the KOL Input data.\\nBatches: {BATCHES}.\\nEach Batch Size: {BATCH_SIZE}\\n\\n\"\n",
    "    )\n",
    "    for batch in range(1, BATCHES + 1):\n",
    "        data_list = []\n",
    "        for i in range(BATCH_SIZE):\n",
    "            data_list.append(generate_kol_data())\n",
    "        batch_df = pd.DataFrame(data_list)\n",
    "        file_path = os.path.join(DATA_STORE_PATH, f\"batch_{batch}.xlsx\")\n",
    "        batch_df.to_excel(file_path, index=False)\n",
    "        print(f\"Saved Batch: {file_path}\")\n",
    "    print(\n",
    "        \"\\nSuccessfully generated the input data for KOL Data Standardization process\"\n",
    "    )"
   ]
  },
  {
   "cell_type": "code",
   "execution_count": null,
   "metadata": {},
   "outputs": [],
   "source": []
  }
 ],
 "metadata": {
  "kernelspec": {
   "display_name": "Python 3",
   "language": "python",
   "name": "python3"
  },
  "language_info": {
   "codemirror_mode": {
    "name": "ipython",
    "version": 3
   },
   "file_extension": ".py",
   "mimetype": "text/x-python",
   "name": "python",
   "nbconvert_exporter": "python",
   "pygments_lexer": "ipython3",
   "version": "3.12.1"
  }
 },
 "nbformat": 4,
 "nbformat_minor": 2
}
